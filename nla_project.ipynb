{
 "cells": [
  {
   "cell_type": "markdown",
   "metadata": {},
   "source": [
    "## Imports"
   ]
  },
  {
   "cell_type": "code",
   "execution_count": 48,
   "metadata": {
    "collapsed": false
   },
   "outputs": [
    {
     "name": "stdout",
     "output_type": "stream",
     "text": [
      "The autoreload extension is already loaded. To reload it, use:\n",
      "  %reload_ext autoreload\n"
     ]
    }
   ],
   "source": [
    "%matplotlib inline\n",
    "import matplotlib.pyplot as plt\n",
    "import wget\n",
    "import os, struct\n",
    "import numpy as np\n",
    "import gzip\n",
    "import sklearn\n",
    "import sklearn.decomposition\n",
    "import array\n",
    "\n",
    "from collections import namedtuple\n",
    "from sklearn.svm import SVC\n",
    "from sklearn.linear_model import LogisticRegression, Lasso\n",
    "from sklearn.ensemble import RandomForestClassifier, ExtraTreesClassifier\n",
    "from sklearn.cross_validation import KFold\n",
    "%load_ext autoreload\n",
    "%autoreload 2"
   ]
  },
  {
   "cell_type": "markdown",
   "metadata": {},
   "source": [
    "## Load data"
   ]
  },
  {
   "cell_type": "code",
   "execution_count": 2,
   "metadata": {
    "collapsed": false
   },
   "outputs": [],
   "source": [
    "def download_data(directory='./data/'):\n",
    "    \"\"\"Download MNIST database\"\"\"\n",
    "\n",
    "    if os.path.exists(directory):\n",
    "        return\n",
    "\n",
    "    os.makedirs(directory)\n",
    "    wget.download(\"http://yann.lecun.com/exdb/mnist/train-images-idx3-ubyte.gz\", directory, bar=None)\n",
    "    wget.download(\"http://yann.lecun.com/exdb/mnist/train-labels-idx1-ubyte.gz\", directory, bar=None)\n",
    "    wget.download(\"http://yann.lecun.com/exdb/mnist/t10k-images-idx3-ubyte.gz\", directory, bar=None)\n",
    "    wget.download(\"http://yann.lecun.com/exdb/mnist/t10k-labels-idx1-ubyte.gz\", directory, bar=None)"
   ]
  },
  {
   "cell_type": "code",
   "execution_count": 3,
   "metadata": {
    "collapsed": false
   },
   "outputs": [],
   "source": [
    "def load_mnist(dataset=\"training\", digits=np.arange(10), path=\"./data/\"):\n",
    "    \"\"\"Loads MNIST files into 3D numpy arrays\n",
    "\n",
    "    Adapted from: http://abel.ee.ucla.edu/cvxopt/_downloads/mnist.py\n",
    "    \"\"\"\n",
    "\n",
    "    if dataset == \"training\":\n",
    "        fname_img = os.path.join(path, 'train-images-idx3-ubyte.gz')\n",
    "        fname_lbl = os.path.join(path, 'train-labels-idx1-ubyte.gz')\n",
    "    elif dataset == \"testing\":\n",
    "        fname_img = os.path.join(path, 't10k-images-idx3-ubyte.gz')\n",
    "        fname_lbl = os.path.join(path, 't10k-labels-idx1-ubyte.gz')\n",
    "    else:\n",
    "        raise ValueError(\"dataset must be 'testing' or 'training'\")\n",
    "\n",
    "    flbl = gzip.open(fname_lbl, 'rb')\n",
    "    magic_nr, size = struct.unpack(\">II\", flbl.read(8))\n",
    "    lbl = array.array(\"b\", flbl.read())\n",
    "    flbl.close()\n",
    "\n",
    "    fimg = gzip.open(fname_img, 'rb')\n",
    "    magic_nr, size, rows, cols = struct.unpack(\">IIII\", fimg.read(16))\n",
    "    img = array.array(\"B\", fimg.read())\n",
    "    fimg.close()\n",
    "\n",
    "    ind = [k for k in range(size) if lbl[k] in digits]\n",
    "    N = len(ind)\n",
    "\n",
    "    images = np.zeros((N, rows, cols), dtype=np.uint8)\n",
    "    labels = np.zeros((N, 1), dtype=np.int8)\n",
    "    for i in range(len(ind)):\n",
    "        images[i] = np.array(img[ind[i] * rows * cols: (ind[i] + 1) * rows * cols]).reshape((rows, cols))\n",
    "        labels[i] = lbl[ind[i]]\n",
    "\n",
    "    return images, labels"
   ]
  },
  {
   "cell_type": "code",
   "execution_count": 4,
   "metadata": {
    "collapsed": true
   },
   "outputs": [],
   "source": [
    "def split_data():\n",
    "    \"\"\"Preprocess and return training and testing datasets\"\"\"\n",
    "\n",
    "    images = namedtuple('MNIST_images', ['train', 'test'])\n",
    "    labels = namedtuple('MNIST_labels', ['train', 'test'])\n",
    "    images.train, labels.train = load_mnist('training')\n",
    "    images.test, labels.test = load_mnist('testing')\n",
    "\n",
    "    images.train = images.train.reshape(images.train.shape[0], -1)\n",
    "    images.test = images.test.reshape(images.test.shape[0], -1)\n",
    "\n",
    "    images.train = sklearn.preprocessing.normalize(images.train.astype(np.float), axis=1)\n",
    "    images.test = sklearn.preprocessing.normalize(images.test.astype(np.float), axis=1)\n",
    "\n",
    "    labels.train = labels.train.ravel()\n",
    "    labels.test = labels.test.ravel()\n",
    "\n",
    "    return images, labels"
   ]
  },
  {
   "cell_type": "code",
   "execution_count": 5,
   "metadata": {
    "collapsed": false
   },
   "outputs": [],
   "source": [
    "download_data()"
   ]
  },
  {
   "cell_type": "code",
   "execution_count": 6,
   "metadata": {
    "collapsed": false
   },
   "outputs": [],
   "source": [
    "images, labels = split_data()"
   ]
  },
  {
   "cell_type": "markdown",
   "metadata": {},
   "source": [
    "# Experiments"
   ]
  },
  {
   "cell_type": "markdown",
   "metadata": {},
   "source": [
    "## Single classifier "
   ]
  },
  {
   "cell_type": "code",
   "execution_count": 7,
   "metadata": {
    "collapsed": false
   },
   "outputs": [],
   "source": [
    "pca = sklearn.decomposition.PCA(50).fit(images.train)\n",
    "pca_images_train = pca.transform(images.train)\n",
    "pca_images_test = pca.transform(images.test)"
   ]
  },
  {
   "cell_type": "code",
   "execution_count": 8,
   "metadata": {
    "collapsed": true
   },
   "outputs": [],
   "source": [
    "models = namedtuple('models', ['logit', 'svm', 'random_forest', 'extra_trees'])\n",
    "predictions = namedtuple('predictions', ['logit', 'svm', 'random_forest', 'extra_trees'])"
   ]
  },
  {
   "cell_type": "markdown",
   "metadata": {},
   "source": [
    "### Logistic regression"
   ]
  },
  {
   "cell_type": "code",
   "execution_count": 9,
   "metadata": {
    "collapsed": false
   },
   "outputs": [],
   "source": [
    "models.logit = LogisticRegression('l2', False).fit(pca_images_train, labels.train)\n",
    "predictions.logit = models.logit.predict(pca_images_test)"
   ]
  },
  {
   "cell_type": "code",
   "execution_count": 10,
   "metadata": {
    "collapsed": false
   },
   "outputs": [
    {
     "data": {
      "text/plain": [
       "0.90190000000000003"
      ]
     },
     "execution_count": 10,
     "metadata": {},
     "output_type": "execute_result"
    }
   ],
   "source": [
    "np.mean(predictions.logit == labels.test)"
   ]
  },
  {
   "cell_type": "markdown",
   "metadata": {},
   "source": [
    "### SVM"
   ]
  },
  {
   "cell_type": "code",
   "execution_count": 11,
   "metadata": {
    "collapsed": true
   },
   "outputs": [],
   "source": [
    "models.svm = SVC(kernel='linear').fit(pca_images_train, labels.train)\n",
    "predictions.svm = models.svm.predict(pca_images_test)"
   ]
  },
  {
   "cell_type": "code",
   "execution_count": 12,
   "metadata": {
    "collapsed": false
   },
   "outputs": [
    {
     "data": {
      "text/plain": [
       "0.93759999999999999"
      ]
     },
     "execution_count": 12,
     "metadata": {},
     "output_type": "execute_result"
    }
   ],
   "source": [
    "np.mean(predictions.svm == labels.test)"
   ]
  },
  {
   "cell_type": "markdown",
   "metadata": {},
   "source": [
    "### Random forest classifier"
   ]
  },
  {
   "cell_type": "code",
   "execution_count": 13,
   "metadata": {
    "collapsed": true
   },
   "outputs": [],
   "source": [
    "models.random_forest = RandomForestClassifier().fit(pca_images_train, labels.train)\n",
    "predictions.random_forest = models.random_forest.predict(pca_images_test)"
   ]
  },
  {
   "cell_type": "code",
   "execution_count": 14,
   "metadata": {
    "collapsed": false
   },
   "outputs": [
    {
     "data": {
      "text/plain": [
       "0.93259999999999998"
      ]
     },
     "execution_count": 14,
     "metadata": {},
     "output_type": "execute_result"
    }
   ],
   "source": [
    "np.mean(predictions.random_forest == labels.test)"
   ]
  },
  {
   "cell_type": "markdown",
   "metadata": {},
   "source": [
    "### Extra trees classifier"
   ]
  },
  {
   "cell_type": "code",
   "execution_count": 15,
   "metadata": {
    "collapsed": true
   },
   "outputs": [],
   "source": [
    "models.extra_trees = ExtraTreesClassifier().fit(pca_images_train, labels.train)\n",
    "predictions.extra_trees = models.extra_trees.predict(pca_images_test)"
   ]
  },
  {
   "cell_type": "code",
   "execution_count": 16,
   "metadata": {
    "collapsed": false
   },
   "outputs": [
    {
     "data": {
      "text/plain": [
       "0.93030000000000002"
      ]
     },
     "execution_count": 16,
     "metadata": {},
     "output_type": "execute_result"
    }
   ],
   "source": [
    "np.mean(predictions.extra_trees == labels.test)"
   ]
  },
  {
   "cell_type": "markdown",
   "metadata": {},
   "source": [
    "## Stacking classifier"
   ]
  },
  {
   "cell_type": "code",
   "execution_count": 50,
   "metadata": {
    "collapsed": false
   },
   "outputs": [],
   "source": [
    "from stacking import Stacking"
   ]
  },
  {
   "cell_type": "markdown",
   "metadata": {},
   "source": [
    "### SVM + Logistic regression"
   ]
  },
  {
   "cell_type": "code",
   "execution_count": 18,
   "metadata": {
    "collapsed": false
   },
   "outputs": [],
   "source": [
    "svm_logit = Stacking(base_estimators=[(lambda X, y: SVC(C=5, kernel='poly', degree=2, gamma=1.).fit(X, y),\n",
    "                                       lambda clf, X: clf.predict(X))],\n",
    "                     meta_fitter=LogisticRegression('l2').fit,\n",
    "                     n_folds=5)\n",
    "svm_logit_predictions = svm_logit.fit(pca_images_train, labels.train).predict(pca_images_test)"
   ]
  },
  {
   "cell_type": "code",
   "execution_count": 19,
   "metadata": {
    "collapsed": false
   },
   "outputs": [
    {
     "data": {
      "text/plain": [
       "0.60519999999999996"
      ]
     },
     "execution_count": 19,
     "metadata": {},
     "output_type": "execute_result"
    }
   ],
   "source": [
    "np.mean(svm_logit_predictions == labels.test)"
   ]
  },
  {
   "cell_type": "markdown",
   "metadata": {},
   "source": [
    "### Random forest + Logistic regression"
   ]
  },
  {
   "cell_type": "code",
   "execution_count": 20,
   "metadata": {
    "collapsed": false
   },
   "outputs": [],
   "source": [
    "rf_logit = Stacking(base_estimators=[(lambda X, y: RandomForestClassifier().fit(X, y),\n",
    "                                      lambda clf, X: clf.predict(X))],\n",
    "                    meta_fitter=LogisticRegression('l2').fit,\n",
    "                    n_folds=3)\n",
    "rf_logit_predictions = rf_logit.fit(pca_images_train, labels.train).predict(pca_images_test)"
   ]
  },
  {
   "cell_type": "code",
   "execution_count": 21,
   "metadata": {
    "collapsed": false
   },
   "outputs": [
    {
     "data": {
      "text/plain": [
       "0.48720000000000002"
      ]
     },
     "execution_count": 21,
     "metadata": {},
     "output_type": "execute_result"
    }
   ],
   "source": [
    "np.mean(rf_logit_predictions == labels.test)"
   ]
  },
  {
   "cell_type": "markdown",
   "metadata": {},
   "source": [
    "### Extra trees + Logistic regression"
   ]
  },
  {
   "cell_type": "code",
   "execution_count": 22,
   "metadata": {
    "collapsed": false
   },
   "outputs": [],
   "source": [
    "et_logit = Stacking(base_estimators=[(lambda X, y: ExtraTreesClassifier().fit(X, y),\n",
    "                                      lambda clf, X: clf.predict_proba(X))],\n",
    "                    meta_fitter=LogisticRegression('l2').fit,\n",
    "                    n_folds=3)\n",
    "et_logit_predictions = et_logit.fit(pca_images_train, labels.train).predict(pca_images_test)"
   ]
  },
  {
   "cell_type": "code",
   "execution_count": 23,
   "metadata": {
    "collapsed": false
   },
   "outputs": [
    {
     "data": {
      "text/plain": [
       "0.93230000000000002"
      ]
     },
     "execution_count": 23,
     "metadata": {},
     "output_type": "execute_result"
    }
   ],
   "source": [
    "np.mean(et_logit_predictions == labels.test)"
   ]
  },
  {
   "cell_type": "markdown",
   "metadata": {},
   "source": [
    "### SVM + SVM"
   ]
  },
  {
   "cell_type": "code",
   "execution_count": 30,
   "metadata": {
    "collapsed": false
   },
   "outputs": [],
   "source": [
    "svm_svm = Stacking(base_estimators=[(lambda X, y: SVC(kernel='linear').fit(X, y),\n",
    "                                     lambda clf, X: clf.predict(X))],\n",
    "                   meta_fitter=SVC(C=5, kernel='poly', degree=2, gamma=1.).fit,\n",
    "                   n_folds=5)\n",
    "svm_svm_predictions = svm_svm.fit(pca_images_train, labels.train).predict(pca_images_test)"
   ]
  },
  {
   "cell_type": "code",
   "execution_count": 31,
   "metadata": {
    "collapsed": false
   },
   "outputs": [
    {
     "data": {
      "text/plain": [
       "0.93759999999999999"
      ]
     },
     "execution_count": 31,
     "metadata": {},
     "output_type": "execute_result"
    }
   ],
   "source": [
    "np.mean(svm_svm_predictions == labels.test)"
   ]
  },
  {
   "cell_type": "markdown",
   "metadata": {},
   "source": [
    "### Random forest + SVM"
   ]
  },
  {
   "cell_type": "code",
   "execution_count": 25,
   "metadata": {
    "collapsed": false
   },
   "outputs": [],
   "source": [
    "rf_svm = Stacking(base_estimators=[(lambda X, y: RandomForestClassifier().fit(X, y),\n",
    "                                    lambda clf, X: clf.predict(X))],\n",
    "                  meta_fitter=SVC(C=10, kernel='poly', degree=2, gamma=1.).fit,\n",
    "                  n_folds=5)\n",
    "rf_svm_predictions = rf_svm.fit(pca_images_train, labels.train).predict(pca_images_test)"
   ]
  },
  {
   "cell_type": "code",
   "execution_count": 26,
   "metadata": {
    "collapsed": false
   },
   "outputs": [
    {
     "data": {
      "text/plain": [
       "0.9335"
      ]
     },
     "execution_count": 26,
     "metadata": {},
     "output_type": "execute_result"
    }
   ],
   "source": [
    "np.mean(rf_svm_predictions == labels.test)"
   ]
  },
  {
   "cell_type": "markdown",
   "metadata": {},
   "source": [
    "### Extra trees + SVM"
   ]
  },
  {
   "cell_type": "code",
   "execution_count": 79,
   "metadata": {
    "collapsed": false
   },
   "outputs": [
    {
     "data": {
      "text/plain": [
       "0.9345"
      ]
     },
     "execution_count": 79,
     "metadata": {},
     "output_type": "execute_result"
    }
   ],
   "source": [
    "wildfowl = Stacking(base_estimators=[(ExtraTreesClassifier().fit, lambda clf, X: clf.predict_proba(X))],\n",
    "                    meta_fitter=SVC(C=5, kernel='poly', degree=2, gamma=1.).fit,\n",
    "                    n_folds=5)\n",
    "wildfowl.fit(pca_images_train, labels.train).score(pca_images_test, labels.test)"
   ]
  },
  {
   "cell_type": "code",
   "execution_count": 80,
   "metadata": {
    "collapsed": false
   },
   "outputs": [
    {
     "data": {
      "text/plain": [
       "0.97430000000000005"
      ]
     },
     "execution_count": 80,
     "metadata": {},
     "output_type": "execute_result"
    }
   ],
   "source": [
    "wildfowl = Stacking(base_estimators=[(ExtraTreesClassifier().fit, lambda clf, X: clf.predict_proba(X)),\n",
    "                                     (RandomForestClassifier().fit, lambda clf, X: clf.predict_proba(X)),\n",
    "                                     (LogisticRegression('l2').fit, lambda clf, X: clf.predict(X))],\n",
    "                    meta_fitter=SVC(C=5, kernel='poly', degree=2, gamma=1.).fit,\n",
    "                    n_folds=5, extend_meta=True)\n",
    "wildfowl.fit(pca_images_train, labels.train).score(pca_images_test, labels.test)"
   ]
  },
  {
   "cell_type": "code",
   "execution_count": 81,
   "metadata": {
    "collapsed": false
   },
   "outputs": [
    {
     "data": {
      "text/plain": [
       "0.9486"
      ]
     },
     "execution_count": 81,
     "metadata": {},
     "output_type": "execute_result"
    }
   ],
   "source": [
    "wildfowl = Stacking(base_estimators=[(ExtraTreesClassifier().fit, lambda clf, X: clf.predict_proba(X)),\n",
    "                                     (RandomForestClassifier().fit, lambda clf, X: clf.predict_proba(X)),\n",
    "                                     (LogisticRegression('l2').fit, lambda clf, X: clf.predict(X))],\n",
    "                    meta_fitter=SVC(C=5, kernel='poly', degree=2, gamma=1.).fit,\n",
    "                    n_folds=5, extend_meta=False)\n",
    "wildfowl.fit(pca_images_train, labels.train).score(pca_images_test, labels.test)"
   ]
  },
  {
   "cell_type": "code",
   "execution_count": 82,
   "metadata": {
    "collapsed": false
   },
   "outputs": [
    {
     "data": {
      "text/plain": [
       "0.97760000000000002"
      ]
     },
     "execution_count": 82,
     "metadata": {},
     "output_type": "execute_result"
    }
   ],
   "source": [
    "wildfowl = Stacking(base_estimators=[(ExtraTreesClassifier().fit, lambda clf, X: clf.predict_proba(X)),\n",
    "                                     (RandomForestClassifier().fit, lambda clf, X: clf.predict_proba(X)),\n",
    "                                     (LogisticRegression('l2').fit, lambda clf, X: clf.predict_proba(X))],\n",
    "                    meta_fitter=SVC(C=5, kernel='poly', degree=2, gamma=1.).fit,\n",
    "                    n_folds=5, extend_meta=True)\n",
    "wildfowl.fit(pca_images_train, labels.train).score(pca_images_test, labels.test)"
   ]
  },
  {
   "cell_type": "code",
   "execution_count": 83,
   "metadata": {
    "collapsed": false
   },
   "outputs": [
    {
     "name": "stdout",
     "output_type": "stream",
     "text": [
      "0.9781\n",
      "0.9763\n",
      "0.9787\n",
      "0.9768\n",
      "0.977\n",
      "0.9749\n"
     ]
    }
   ],
   "source": [
    "for n_folds in [2, 3, 5, 10, 15, 20]:\n",
    "    et_logit = Stacking(base_estimators=[(ExtraTreesClassifier().fit, lambda clf, X: clf.predict_proba(X)),\n",
    "                                         (RandomForestClassifier().fit, lambda clf, X: clf.predict_proba(X)),\n",
    "                                         (LogisticRegression('l2').fit, lambda clf, X: clf.predict_proba(X))],\n",
    "                        meta_fitter=SVC(C=5, kernel='poly', degree=2, gamma=1.).fit,\n",
    "                        n_folds=n_folds, extend_meta=True)\n",
    "    print(et_logit.fit(pca_images_train, labels.train).score(pca_images_test, labels.test))"
   ]
  }
 ],
 "metadata": {
  "kernelspec": {
   "display_name": "Python 3",
   "language": "python",
   "name": "python3"
  },
  "language_info": {
   "codemirror_mode": {
    "name": "ipython",
    "version": 3
   },
   "file_extension": ".py",
   "mimetype": "text/x-python",
   "name": "python",
   "nbconvert_exporter": "python",
   "pygments_lexer": "ipython3",
   "version": "3.5.1+"
  }
 },
 "nbformat": 4,
 "nbformat_minor": 0
}
